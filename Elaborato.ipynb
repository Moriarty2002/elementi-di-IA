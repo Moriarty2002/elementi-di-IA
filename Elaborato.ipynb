{
 "cells": [
  {
   "cell_type": "markdown",
   "metadata": {},
   "source": [
    "### INIZIALIZATION"
   ]
  },
  {
   "cell_type": "markdown",
   "metadata": {},
   "source": [
    "#### define Node class"
   ]
  },
  {
   "cell_type": "code",
   "execution_count": 9,
   "metadata": {},
   "outputs": [],
   "source": [
    "from collections import deque # used in the alghoritms\n",
    "\n",
    "'''\n",
    "Due to the unknown dataset, we cannot indetify different nodes with the same value, so we don't allow duplicate nodes\n",
    "'''\n",
    "\n",
    "class Node:\n",
    "    def __init__(self, value=None):\n",
    "        self.__depth: int = 0\n",
    "        self.__children = []\n",
    "        self.__value = value\n",
    "        self.__parent: Node = None\n",
    "    \n",
    "    def add_parent(self, parent):\n",
    "        self.__parent = parent\n",
    "\n",
    "    def add_child(self, child):\n",
    "        # we need this check due to duplicate nodes, in this way we only insert a duplicate child node one time\n",
    "        if child.__depth == 0: \n",
    "            child.__depth = self.__depth + 1\n",
    "            self.__children.append(child)\n",
    "    \n",
    "    def get_value(self):\n",
    "       return self.__value\n",
    "    \n",
    "    def get_children(self):\n",
    "       return self.__children\n",
    "    \n",
    "    def get_sequence(self):\n",
    "        \n",
    "        if self.__parent is None:\n",
    "            return f\"{self.__value} -> \"\n",
    "        \n",
    "        path = self.__parent.get_sequence()\n",
    "        return  path + f\"{self.__value} -> \"\n",
    "\n",
    "    def get_depth(self) -> int:\n",
    "        return self.__depth\n",
    "    \n",
    "\n",
    "def print_tree(node: Node, level=0, visited=None):\n",
    "    if visited is None: # Lock infinite loop (cycle)\n",
    "        visited = set()\n",
    "\n",
    "    if node and node.get_value() not in visited:\n",
    "        print(\"\\t\" * level + str(node.get_value()))\n",
    "        visited.add(node.get_value())\n",
    "        for child in node.get_children():\n",
    "            print_tree(child, level + 1, visited)"
   ]
  },
  {
   "cell_type": "markdown",
   "metadata": {},
   "source": [
    "#### make graph starting from a dataset"
   ]
  },
  {
   "cell_type": "code",
   "execution_count": 10,
   "metadata": {},
   "outputs": [],
   "source": [
    "import sys\n",
    "\n",
    "def make_graph(filename) -> Node:\n",
    "    nodes = {}\n",
    "\n",
    "    with open(filename, 'r') as file:\n",
    "        for line in file:\n",
    "            if line.startswith('#'):\n",
    "                continue  # Ignore comment line\n",
    "\n",
    "            parts = line.split()\n",
    "            from_node = int(parts[0])\n",
    "            to_node = int(parts[1])\n",
    "\n",
    "            if from_node not in nodes:\n",
    "                nodes[from_node] = Node(from_node)\n",
    "\n",
    "            if to_node not in nodes:\n",
    "                nodes[to_node] = Node(to_node)\n",
    "                nodes[to_node].add_parent( nodes[from_node] )\n",
    "\n",
    "            nodes[from_node].add_child(nodes[to_node])\n",
    "\n",
    "\n",
    "    return nodes[0] # return only the first node\n",
    "\n",
    "\n",
    "# graph = make_graph(\"dataset/Amazon0302_custom.txt\")\n",
    "graph = make_graph(\"dataset/Amazon0302.txt\")\n",
    "# graph = make_graph(\"dataset/p2p-Gnutella04.txt\")\n",
    "# graph = make_graph(\"dataset/p2p-Gnutella31.txt\")\n",
    "\n",
    "sys.setrecursionlimit(10000)\n",
    "# print_tree(graph)"
   ]
  },
  {
   "cell_type": "markdown",
   "metadata": {},
   "source": [
    "#### utility"
   ]
  },
  {
   "cell_type": "code",
   "execution_count": 11,
   "metadata": {},
   "outputs": [],
   "source": [
    "def print_result(goal_node: Node, node_viewed: set, space_complexity, show_depth: bool = False):\n",
    "    print(f\"Found node: {goal_node.get_value()}\")\n",
    "    if show_depth:\n",
    "        print(f\"Node's depth: {goal_node.get_depth()}\")\n",
    "    print(f\"Sequence found: {goal_node.get_sequence()[:-4]}\")\n",
    "    print(f\"Nodes expanded: {len(node_viewed)}\")\n",
    "    print(f\"Max nodes in memory: {space_complexity}\")\n",
    "\n",
    "\n",
    "def print_fail(value_not_found):\n",
    "    print(f\"Node {value_not_found} not found in the graph.\")\n",
    "\n",
    "res_found = 0\n",
    "res_cutoff = 1\n",
    "res_fail = 2"
   ]
  },
  {
   "cell_type": "markdown",
   "metadata": {},
   "source": [
    "### UNINFORMED SEARCH"
   ]
  },
  {
   "cell_type": "markdown",
   "metadata": {},
   "source": [
    "#### breadth first search"
   ]
  },
  {
   "cell_type": "code",
   "execution_count": 12,
   "metadata": {},
   "outputs": [
    {
     "name": "stdout",
     "output_type": "stream",
     "text": [
      "Found node: 189182\n",
      "Sequence found: 0 -> 4 -> 17 -> 31 -> 85 -> 170 -> 217 -> 330 -> 375 -> 401 -> 727 -> 1750 -> 2979 -> 4272 -> 6726 -> 17365 -> 21909 -> 22505 -> 22745 -> 38245 -> 41805 -> 72025 -> 115529 -> 171157 -> 189182\n",
      "Nodes expanded: 91713\n",
      "Max nodes in memory: 13277\n"
     ]
    },
    {
     "data": {
      "text/plain": [
       "0"
      ]
     },
     "execution_count": 12,
     "metadata": {},
     "output_type": "execute_result"
    }
   ],
   "source": [
    "def breadth_first_search(first_node: Node, value_to_find):\n",
    "    node_viewed = set()\n",
    "    fringe = deque([first_node]) \n",
    "    space_complexity = 0\n",
    "\n",
    "    while fringe:\n",
    "        space_complexity = max(space_complexity, len(fringe))\n",
    "        \n",
    "        to_check_node = fringe.popleft() # use as FIFO queue\n",
    "        node_viewed.add(to_check_node)\n",
    "\n",
    "        if to_check_node.get_value() == value_to_find:\n",
    "            print_result(to_check_node, node_viewed, space_complexity)\n",
    "            return res_found\n",
    "\n",
    "\n",
    "        for child in __expand(to_check_node):\n",
    "            if child not in node_viewed:\n",
    "                fringe.append(child)\n",
    "\n",
    "    print_fail(value_to_find)\n",
    "    return res_fail\n",
    "\n",
    "\n",
    "def __expand(node: Node) -> list[Node]:\n",
    "    return node.get_children()\n",
    "\n",
    "\n",
    "\n",
    "breadth_first_search(graph, 189182)\n"
   ]
  },
  {
   "cell_type": "markdown",
   "metadata": {},
   "source": [
    "#### depth first search"
   ]
  },
  {
   "cell_type": "code",
   "execution_count": 13,
   "metadata": {},
   "outputs": [
    {
     "name": "stdout",
     "output_type": "stream",
     "text": [
      "Found node: 189182\n",
      "Node's depth: 24\n",
      "Sequence found: 0 -> 4 -> 17 -> 31 -> 85 -> 170 -> 217 -> 330 -> 375 -> 401 -> 727 -> 1750 -> 2979 -> 4272 -> 6726 -> 17365 -> 21909 -> 22505 -> 22745 -> 38245 -> 41805 -> 72025 -> 115529 -> 171157 -> 189182\n",
      "Nodes expanded: 88394\n",
      "Max nodes in memory: 57\n"
     ]
    },
    {
     "data": {
      "text/plain": [
       "0"
      ]
     },
     "execution_count": 13,
     "metadata": {},
     "output_type": "execute_result"
    }
   ],
   "source": [
    "def depth_first_search(first_node: Node, value_to_find):\n",
    "    node_viewed = set()\n",
    "    fringe = deque([first_node])\n",
    "    space_complexity = 0\n",
    "\n",
    "    while fringe:\n",
    "        space_complexity = max(space_complexity, len(fringe))\n",
    "        \n",
    "        to_check_node = fringe.pop() # use as LIFO queue\n",
    "        node_viewed.add(to_check_node)\n",
    "\n",
    "        if to_check_node.get_value() == value_to_find:\n",
    "            print_result(to_check_node, node_viewed, space_complexity, show_depth=True)\n",
    "            return res_found\n",
    "\n",
    "\n",
    "        for child in __expand(to_check_node):\n",
    "            if child not in node_viewed:\n",
    "                fringe.append(child)\n",
    "\n",
    "    print_fail(value_to_find)\n",
    "    return res_fail\n",
    "\n",
    "\n",
    "def __expand(node: Node) -> list[Node]:\n",
    "    return reversed( node.get_children() ) # reversed to check first the left nodes\n",
    "\n",
    "\n",
    "\n",
    "depth_first_search(graph, 189182)"
   ]
  },
  {
   "cell_type": "markdown",
   "metadata": {},
   "source": [
    "#### limited depth first search"
   ]
  },
  {
   "cell_type": "code",
   "execution_count": 14,
   "metadata": {},
   "outputs": [
    {
     "name": "stdout",
     "output_type": "stream",
     "text": [
      "search with l >= d:\n",
      "Found node: 189182\n",
      "Node's depth: 24\n",
      "Sequence found: 0 -> 4 -> 17 -> 31 -> 85 -> 170 -> 217 -> 330 -> 375 -> 401 -> 727 -> 1750 -> 2979 -> 4272 -> 6726 -> 17365 -> 21909 -> 22505 -> 22745 -> 38245 -> 41805 -> 72025 -> 115529 -> 171157 -> 189182\n",
      "Nodes expanded: 72295\n",
      "Max nodes in memory: 47\n",
      "\n",
      "search with l < d\n",
      "Node 189182 not found in the graph.\n",
      "Nodes expanded: 3286\n",
      "fatal cutoff\n"
     ]
    }
   ],
   "source": [
    "def limited_depth_first_search(first_node: Node, value_to_find, max_depth: int, debug: bool = True):\n",
    "    node_viewed = set()\n",
    "    fringe = deque([first_node])\n",
    "    space_complexity = 0\n",
    "    is_cutoff = False\n",
    "\n",
    "    while fringe:\n",
    "        space_complexity = max(space_complexity, len(fringe))\n",
    "        \n",
    "        to_check_node = fringe.pop() # use as LIFO queue\n",
    "        node_viewed.add(to_check_node)\n",
    "\n",
    "        if to_check_node.get_value() == value_to_find:\n",
    "            print_result(to_check_node, node_viewed, space_complexity, show_depth=True)\n",
    "            return res_found\n",
    "\n",
    "        for child in __expand(to_check_node):\n",
    "            if child not in node_viewed and child.get_depth() <= max_depth:\n",
    "                fringe.append(child)\n",
    "        \n",
    "        if to_check_node.get_depth() == max_depth:\n",
    "            is_cutoff = True\n",
    "\n",
    "    if debug:\n",
    "        print_fail(value_to_find)\n",
    "        print(f\"Nodes expanded: {len(node_viewed)}\")\n",
    "   \n",
    "    return res_cutoff if is_cutoff else res_fail\n",
    "\n",
    "\n",
    "def __expand(node: Node) -> list[Node]:\n",
    "    return reversed( node.get_children() ) # reversed to check first the left nodes\n",
    "\n",
    "\n",
    "print(\"search with l >= d:\")\n",
    "limited_depth_first_search(graph, 189182, 30)\n",
    "\n",
    "print(\"\\nsearch with l < d\")\n",
    "if limited_depth_first_search(graph, 189182, 10) == res_cutoff:\n",
    "    print(\"fatal cutoff\")"
   ]
  },
  {
   "cell_type": "markdown",
   "metadata": {},
   "source": [
    "#### iterative deepening search"
   ]
  },
  {
   "cell_type": "code",
   "execution_count": 15,
   "metadata": {},
   "outputs": [
    {
     "name": "stdout",
     "output_type": "stream",
     "text": [
      "Node 189182 not found in the graph using max depth: 1\n",
      "Node 189182 not found in the graph using max depth: 2\n",
      "Node 189182 not found in the graph using max depth: 3\n",
      "Node 189182 not found in the graph using max depth: 4\n",
      "Node 189182 not found in the graph using max depth: 5\n",
      "Node 189182 not found in the graph using max depth: 6\n",
      "Node 189182 not found in the graph using max depth: 7\n",
      "Node 189182 not found in the graph using max depth: 8\n",
      "Node 189182 not found in the graph using max depth: 9\n",
      "Node 189182 not found in the graph using max depth: 10\n",
      "Node 189182 not found in the graph using max depth: 11\n",
      "Node 189182 not found in the graph using max depth: 12\n",
      "Node 189182 not found in the graph using max depth: 13\n",
      "Node 189182 not found in the graph using max depth: 14\n",
      "Node 189182 not found in the graph using max depth: 15\n",
      "Node 189182 not found in the graph using max depth: 16\n",
      "Node 189182 not found in the graph using max depth: 17\n",
      "Node 189182 not found in the graph using max depth: 18\n",
      "Node 189182 not found in the graph using max depth: 19\n",
      "Node 189182 not found in the graph using max depth: 20\n",
      "Node 189182 not found in the graph using max depth: 21\n",
      "Node 189182 not found in the graph using max depth: 22\n",
      "Node 189182 not found in the graph using max depth: 23\n",
      "Found node: 189182\n",
      "Node's depth: 24\n",
      "Sequence found: 0 -> 4 -> 17 -> 31 -> 85 -> 170 -> 217 -> 330 -> 375 -> 401 -> 727 -> 1750 -> 2979 -> 4272 -> 6726 -> 17365 -> 21909 -> 22505 -> 22745 -> 38245 -> 41805 -> 72025 -> 115529 -> 171157 -> 189182\n",
      "Nodes expanded: 47571\n",
      "Max nodes in memory: 41\n"
     ]
    }
   ],
   "source": [
    "def iterative_deepening_search(first_node: Node, value_to_find):\n",
    "    i = 1\n",
    "    while True:\n",
    "        condition = limited_depth_first_search(first_node, value_to_find, i, False)\n",
    "        \n",
    "        if condition == res_found:\n",
    "            return\n",
    "        elif condition == res_cutoff:\n",
    "            print(f\"Node {value_to_find} not found in the graph using max depth: {i}\")\n",
    "        elif condition == res_fail:\n",
    "            print(f\"\\nNode {value_to_find} is NOT PRESENT in the graph\")\n",
    "            return\n",
    "\n",
    "        i += 1\n",
    "\n",
    "\n",
    "\n",
    "iterative_deepening_search(graph, 189182)"
   ]
  },
  {
   "cell_type": "markdown",
   "metadata": {},
   "source": [
    "### CLEAN"
   ]
  },
  {
   "cell_type": "code",
   "execution_count": 16,
   "metadata": {},
   "outputs": [],
   "source": [
    "del graph"
   ]
  }
 ],
 "metadata": {
  "kernelspec": {
   "display_name": "Python 3",
   "language": "python",
   "name": "python3"
  },
  "language_info": {
   "codemirror_mode": {
    "name": "ipython",
    "version": 3
   },
   "file_extension": ".py",
   "mimetype": "text/x-python",
   "name": "python",
   "nbconvert_exporter": "python",
   "pygments_lexer": "ipython3",
   "version": "3.12.4"
  }
 },
 "nbformat": 4,
 "nbformat_minor": 2
}
